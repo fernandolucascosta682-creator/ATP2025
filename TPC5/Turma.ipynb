{
 "cells": [
  {
   "cell_type": "code",
   "execution_count": 2,
   "id": "e4b23869",
   "metadata": {},
   "outputs": [
    {
     "name": "stdout",
     "output_type": "stream",
     "text": [
      "\n",
      "(1) Criar turma;\n",
      "(2) Adicionar aluno;\n",
      "(3) Listar a turma;\n",
      "(4) Procurar aluno pelo id\n",
      "(8) Guardar a turma\n",
      "(9) Carregar a turma\n",
      "(0) Sair\n",
      "\n",
      "(1) Criar turma;\n",
      "(2) Adicionar aluno;\n",
      "(3) Listar a turma;\n",
      "(4) Procurar aluno pelo id\n",
      "(8) Guardar a turma\n",
      "(9) Carregar a turma\n",
      "(0) Sair\n"
     ]
    }
   ],
   "source": [
    "import modulo_turma as MT\n",
    "import importlib\n",
    "importlib.reload(MT)\n",
    "\n",
    "programa = True\n",
    "turma = []\n",
    "nficheiros = []\n",
    "\n",
    "while programa:\n",
    "    print(\"\"\"\n",
    "(1) Criar turma;\n",
    "(2) Adicionar aluno;\n",
    "(3) Listar a turma;\n",
    "(4) Procurar aluno pelo id\n",
    "(8) Guardar a turma\n",
    "(9) Carregar a turma\n",
    "(0) Sair\"\"\")\n",
    "    sel = input(\"Insira o número da função que quer desempenhar:\")\n",
    "    if sel == \"1\":\n",
    "        nalunos = int(input(\"Insira o número de alunos da turma\"))\n",
    "        turma = MT.criarTurmaIn(nalunos,turma)\n",
    "    elif sel == \"2\":\n",
    "        MT.inserirTurmaIn(turma)\n",
    "    elif sel == \"3\":\n",
    "        MT.listarTurma(turma)\n",
    "    elif sel ==\"4\":\n",
    "        MT.procurarTurmaIn(turma)\n",
    "    elif sel == \"8\":\n",
    "        nficheiro = input(\"Insira o nome do ficheiro no qual pretende guardar a turma:\").lower().strip()\n",
    "        nficheiros.append(nficheiro)\n",
    "        MT.guardarTurma(turma,nficheiro)\n",
    "    elif sel == \"9\":\n",
    "        nficheiro = input(\"Insira o nome do ficheiro que pretende carregar:\").lower().strip()\n",
    "        res = True\n",
    "        if nficheiro not in nficheiros:\n",
    "            print(\"Ficheiro não existente.\")\n",
    "        else :\n",
    "            MT.abrirTurma(turma,nficheiro)\n",
    "    elif sel == \"0\":\n",
    "        programa = MT.sairTurmaIn()\n",
    "    else:\n",
    "        print(\"Escolha inválida.\")\n",
    "\n",
    "\n"
   ]
  }
 ],
 "metadata": {
  "kernelspec": {
   "display_name": "Python 3",
   "language": "python",
   "name": "python3"
  },
  "language_info": {
   "codemirror_mode": {
    "name": "ipython",
    "version": 3
   },
   "file_extension": ".py",
   "mimetype": "text/x-python",
   "name": "python",
   "nbconvert_exporter": "python",
   "pygments_lexer": "ipython3",
   "version": "3.13.9"
  }
 },
 "nbformat": 4,
 "nbformat_minor": 5
}
